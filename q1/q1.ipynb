{
 "cells": [
  {
   "cell_type": "code",
   "execution_count": 24,
   "metadata": {},
   "outputs": [],
   "source": [
    "import cv2\n",
    "import matplotlib.pyplot as plt\n",
    "import numpy as np"
   ]
  },
  {
   "cell_type": "code",
   "execution_count": 25,
   "metadata": {},
   "outputs": [],
   "source": [
    "## implementar a função que identifica a bandeira\n",
    "## a função deve receber uma imagem e retornar a bandeira identificada\n",
    "## a função deve retornar uma lista de tuplas, onde cada tupla contém as coordenadas de um dos cantos da bandeira\n",
    "## [(PAIS, (x1, y2), (x2, y2)`),(PAIS, (x1, y2), (x2, y2)`),(PAIS, (x1, y2), (x2, y2)`),...]\n",
    "\n",
    "def identifica_bandeira(imagem):\n",
    "    identificacoes = []\n",
    "    \n",
    "    hsv = cv2.cvtColor(imagem, cv2.COLOR_BGR2HSV)\n",
    "    \n",
    "    vermelho_inf1 = np.array([0, 50, 50])\n",
    "    vermelho_sup1 = np.array([10, 255, 255])\n",
    "    vermelho_inf2 = np.array([160, 50, 50])\n",
    "    vermelho_sup2 = np.array([180, 255, 255])\n",
    "    \n",
    "    branco_inf = np.array([0, 0, 180])\n",
    "    branco_sup = np.array([180, 40, 255])\n",
    "    \n",
    "    verde_inf = np.array([35, 40, 40])\n",
    "    verde_sup = np.array([90, 255, 255])\n",
    "    \n",
    "    laranja_inf = np.array([8, 100, 100])\n",
    "    laranja_sup = np.array([25, 255, 255])\n",
    "    \n",
    "    kernel = np.ones((5,5), np.uint8)\n",
    "    \n",
    "    mascara_vermelho = cv2.bitwise_or(\n",
    "        cv2.inRange(hsv, vermelho_inf1, vermelho_sup1),\n",
    "        cv2.inRange(hsv, vermelho_inf2, vermelho_sup2)\n",
    "    )\n",
    "    mascara_vermelho = cv2.morphologyEx(mascara_vermelho, cv2.MORPH_CLOSE, kernel)\n",
    "    \n",
    "    mascara_branco = cv2.inRange(hsv, branco_inf, branco_sup)\n",
    "    mascara_branco = cv2.morphologyEx(mascara_branco, cv2.MORPH_CLOSE, kernel)\n",
    "    \n",
    "    mascara_verde = cv2.inRange(hsv, verde_inf, verde_sup)\n",
    "    mascara_verde = cv2.morphologyEx(mascara_verde, cv2.MORPH_CLOSE, kernel)\n",
    "    \n",
    "    mascara_laranja = cv2.inRange(hsv, laranja_inf, laranja_sup)\n",
    "    mascara_laranja = cv2.morphologyEx(mascara_laranja, cv2.MORPH_CLOSE, kernel)\n",
    "    \n",
    "    mascara_final = cv2.bitwise_or(\n",
    "        cv2.bitwise_or(mascara_vermelho, mascara_branco),\n",
    "        cv2.bitwise_or(mascara_verde, mascara_laranja)\n",
    "    )\n",
    "    \n",
    "    mascara_final = cv2.morphologyEx(mascara_final, cv2.MORPH_CLOSE, kernel)\n",
    "    mascara_final = cv2.morphologyEx(mascara_final, cv2.MORPH_OPEN, kernel)\n",
    "    \n",
    "    contornos, _ = cv2.findContours(mascara_final, cv2.RETR_EXTERNAL, cv2.CHAIN_APPROX_SIMPLE)\n",
    "    \n",
    "    for contorno in contornos:\n",
    "        x, y, largura, altura = cv2.boundingRect(contorno)\n",
    "        \n",
    "        if largura < 30 or altura < 20 or largura/altura < 0.5 or largura/altura > 2.0:\n",
    "            continue\n",
    "        \n",
    "        regiao_bandeira = imagem[y:y+altura, x:x+largura]\n",
    "        hsv_bandeira = hsv[y:y+altura, x:x+largura]\n",
    "        \n",
    "        mascara_vermelho_bandeira = cv2.bitwise_or(\n",
    "            cv2.inRange(hsv_bandeira, vermelho_inf1, vermelho_sup1),\n",
    "            cv2.inRange(hsv_bandeira, vermelho_inf2, vermelho_sup2)\n",
    "        )\n",
    "        mascara_branco_bandeira = cv2.inRange(hsv_bandeira, branco_inf, branco_sup)\n",
    "        mascara_verde_bandeira = cv2.inRange(hsv_bandeira, verde_inf, verde_sup)\n",
    "        mascara_laranja_bandeira = cv2.inRange(hsv_bandeira, laranja_inf, laranja_sup)\n",
    "        \n",
    "        total_pix = largura * altura\n",
    "        perc_vermelho = cv2.countNonZero(mascara_vermelho_bandeira) / total_pix\n",
    "        perc_branco = cv2.countNonZero(mascara_branco_bandeira) / total_pix\n",
    "        perc_verde = cv2.countNonZero(mascara_verde_bandeira) / total_pix\n",
    "        perc_laranja = cv2.countNonZero(mascara_laranja_bandeira) / total_pix\n",
    "\n",
    "        if perc_verde > 0.3 and perc_branco > 0.3 and perc_vermelho > 0.3 and perc_laranja == 0:\n",
    "            identificacoes.append((\"Italia\", (x, y), (x + largura, y + altura)))\n",
    "            continue\n",
    "        \n",
    "        if perc_verde > 0.3 and perc_branco > 0.3 and perc_laranja > 0.3 and perc_vermelho == 0:\n",
    "            identificacoes.append((\"Irlanda\", (x, y), (x + largura, y + altura)))\n",
    "            continue\n",
    "        \n",
    "        if perc_branco > 0.5 and 0.4 < perc_vermelho < 0.5 and perc_verde <= 0 and perc_laranja <= 0:\n",
    "            identificacoes.append((\"Singapura\", (x, y), (x + largura, y + altura)))\n",
    "            continue\n",
    "        \n",
    "        if perc_vermelho > 0.6 and 0.2 < perc_branco < 0.4 and perc_laranja <= 0 and perc_verde <= 0:\n",
    "            identificacoes.append((\"Peru\", (x, y), (x + largura, y + altura)))\n",
    "            continue\n",
    "        \n",
    "        if perc_vermelho == 0.5 and perc_branco == 0.5:\n",
    "            identificacoes.append((\"Monaco\", (x, y), (x + largura, y + altura)))\n",
    "            continue\n",
    "    \n",
    "    return identificacoes\n",
    "\n"
   ]
  },
  {
   "cell_type": "code",
   "execution_count": null,
   "metadata": {},
   "outputs": [],
   "source": []
  },
  {
   "cell_type": "code",
   "execution_count": null,
   "metadata": {},
   "outputs": [],
   "source": []
  },
  {
   "cell_type": "code",
   "execution_count": 26,
   "metadata": {},
   "outputs": [],
   "source": [
    "## nao alterar essa função\n",
    "# Função para desenhar as bandeiras identificadas\n",
    "def draw_bandeiras(lista_bandeiras, bgr):\n",
    "    try:\n",
    "        for bandeira in lista_bandeiras:\n",
    "            cv2.rectangle(bgr, bandeira[1], bandeira[2], (255, 0, 0), 5)\n",
    "            cv2.putText(bgr, bandeira[0], bandeira[1], cv2.FONT_HERSHEY_SIMPLEX, 1, (255, 0, 0), 2, cv2.LINE_AA)\n",
    "        return bgr\n",
    "    except Exception as e:\n",
    "        return bgr"
   ]
  },
  {
   "cell_type": "code",
   "execution_count": 27,
   "metadata": {},
   "outputs": [
    {
     "name": "stdout",
     "output_type": "stream",
     "text": [
      "[('Irlanda', (705, 589), (971, 723)), ('Italia', (343, 298), (608, 475))]\n"
     ]
    },
    {
     "data": {
      "image/png": "[encoded data removed]",
      "text/plain": [
       "<Figure size 640x480 with 1 Axes>"
      ]
     },
     "metadata": {},
     "output_type": "display_data"
    }
   ],
   "source": [
    "## Para testar a função identifica_bandeira\n",
    "\n",
    "# Você pode testar a função identifica_bandeira com as imagens de teste fornecidas\n",
    "# \n",
    "# img = cv2.imread('img/teste1.png')\n",
    "# img = cv2.imread('img/teste2.png')\n",
    "# img = cv2.imread('img/teste3.png')\n",
    "# img = cv2.imread('img/teste4.png')\n",
    "\n",
    "# Chamar a função identifica_bandeira\n",
    "resultado = identifica_bandeira(img)\n",
    "\n",
    "# Imprimir o resultado da função identifica_bandeira \n",
    "print(resultado)\n",
    "\n",
    "# Desenhar as bandeiras na imagem\n",
    "bgr = draw_bandeiras(resultado, img)\n",
    "plt.imshow(cv2.cvtColor(bgr, cv2.COLOR_BGR2RGB))\n",
    "plt.show()\n",
    "\n",
    "\n"
   ]
  },
  {
   "cell_type": "code",
   "execution_count": null,
   "metadata": {},
   "outputs": [],
   "source": []
  }
 ],
 "metadata": {
  "kernelspec": {
   "display_name": "Python 3",
   "language": "python",
   "name": "python3"
  },
  "language_info": {
   "codemirror_mode": {
    "name": "ipython",
    "version": 3
   },
   "file_extension": ".py",
   "mimetype": "text/x-python",
   "name": "python",
   "nbconvert_exporter": "python",
   "pygments_lexer": "ipython3",
   "version": "3.12.3"
  }
 },
 "nbformat": 4,
 "nbformat_minor": 2
}
